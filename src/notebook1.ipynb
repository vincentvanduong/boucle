{
 "cells": [
  {
   "cell_type": "code",
   "execution_count": 97,
   "metadata": {},
   "outputs": [],
   "source": [
    "import jax.numpy as jnp\n",
    "import jax\n",
    "import numpy as np\n",
    "import matplotlib.pyplot as plt"
   ]
  },
  {
   "cell_type": "code",
   "execution_count": 73,
   "metadata": {},
   "outputs": [],
   "source": [
    "pauli_x = [[0., 1.], [1., 0.]]\n",
    "pauli_y = [[0., -1.j], [1.j, 0.]]\n",
    "pauli_z = [[1., 0.], [0., -1.]]\n",
    "\n",
    "pauli = jnp.asarray([pauli_x, pauli_y, pauli_z])\n",
    "\n",
    "basis = jnp.asarray([jnp.eye(2), pauli_x, pauli_y, pauli_z])"
   ]
  },
  {
   "cell_type": "code",
   "execution_count": 165,
   "metadata": {},
   "outputs": [],
   "source": [
    "# Determininstic evolution\n",
    "omega0 = 5.\n",
    "hamiltonian_0 = -0.5*omega0*pauli[2]\n",
    "\n",
    "# Noisy evolution\n",
    "gamma = 0.1\n",
    "theta, phi = 0., 0.\n",
    "n = jnp.asarray([jnp.cos(phi)*jnp.sin(theta), jnp.sin(phi)*jnp.sin(theta), jnp.cos(theta)])\n",
    "kraus = jnp.sqrt(gamma) * jnp.einsum('a, aij -> aij', n, pauli)\n",
    "\n",
    "# Control\n",
    "v_x, v_y, v_z, = 0., 0., 0.\n",
    "v = jnp.asarray([v_x, v_y, v_z])\n",
    "hamiltonian_control = jnp.einsum('a, aij -> ij', v, pauli)\n",
    "\n",
    "def lindbladian(rho, hamiltonian, kraus):\n",
    "    deterministic = -1.j * (hamiltonian @ rho - rho @ hamiltonian)\n",
    "    stochastic = jnp.sum(jnp.array(\n",
    "        [k@(rho @ jnp.conjugate(k.T)) - 0.5*(k.T @ k @ rho + rho @ k.T @ k) for k in kraus]\n",
    "        ))\n",
    "    return deterministic + stochastic\n"
   ]
  },
  {
   "cell_type": "code",
   "execution_count": 166,
   "metadata": {},
   "outputs": [],
   "source": [
    "def get_coords(matrix, basis):\n",
    "    return 0.5*jnp.einsum('ij, aji -> a', matrix, basis)\n",
    "\n",
    "def get_matrix(coords, basis):\n",
    "    return jnp.einsum('a, aij -> ij', coords, basis)"
   ]
  },
  {
   "cell_type": "code",
   "execution_count": null,
   "metadata": {},
   "outputs": [],
   "source": []
  },
  {
   "cell_type": "code",
   "execution_count": 178,
   "metadata": {},
   "outputs": [],
   "source": [
    "s = jnp.asarray([1., 0., 0.])\n",
    "state = 0.5*(jnp.eye(2) + jnp.einsum('a, aij -> ij', s, pauli))\n",
    "\n",
    "dt = 0.05\n",
    "time = np.arange(0, 2*jnp.pi, dt)\n",
    "fidelity = []\n",
    "\n",
    "for idx in range(len(time)):\n",
    "    rho_coords = get_coords(state, basis)\n",
    "\n",
    "    control_ = jnp.array([5, 0. , 0.])\n",
    "    control_ = jnp.einsum('a, aij -> ij', control_, pauli)\n",
    "    \n",
    "    lindbladian_matrix = []\n",
    "    for nu in basis:\n",
    "        lindbladian_matrix.append(0.5*jnp.einsum('ij, aji -> a', lindbladian(nu, hamiltonian_0 + control_, kraus), basis))\n",
    "    lindbladian_matrix = jnp.asarray(lindbladian_matrix).T\n",
    "\n",
    "    rho_evolved_coords = jax.scipy.linalg.expm(lindbladian_matrix * dt) @ rho_coords\n",
    "    state = get_matrix(rho_evolved_coords, basis)\n",
    "\n",
    "    fidelity.append(jnp.trace(state @ state))"
   ]
  },
  {
   "cell_type": "code",
   "execution_count": 179,
   "metadata": {},
   "outputs": [
    {
     "data": {
      "image/png": "[encoded data removed]",
      "text/plain": [
       "<Figure size 640x480 with 1 Axes>"
      ]
     },
     "metadata": {},
     "output_type": "display_data"
    }
   ],
   "source": [
    "plt.plot(time, fidelity)\n",
    "plt.show()"
   ]
  },
  {
   "cell_type": "code",
   "execution_count": 169,
   "metadata": {},
   "outputs": [
    {
     "data": {
      "text/plain": [
       "Array([[ 0.5006276+0.j        , -0.2658675-0.00784276j],\n",
       "       [-0.2658675+0.00784276j,  0.5006276+0.j        ]], dtype=complex64)"
      ]
     },
     "execution_count": 169,
     "metadata": {},
     "output_type": "execute_result"
    }
   ],
   "source": [
    "state"
   ]
  },
  {
   "cell_type": "code",
   "execution_count": null,
   "metadata": {},
   "outputs": [],
   "source": []
  }
 ],
 "metadata": {
  "kernelspec": {
   "display_name": "boucle",
   "language": "python",
   "name": "python3"
  },
  "language_info": {
   "codemirror_mode": {
    "name": "ipython",
    "version": 3
   },
   "file_extension": ".py",
   "mimetype": "text/x-python",
   "name": "python",
   "nbconvert_exporter": "python",
   "pygments_lexer": "ipython3",
   "version": "3.12.0"
  }
 },
 "nbformat": 4,
 "nbformat_minor": 2
}
